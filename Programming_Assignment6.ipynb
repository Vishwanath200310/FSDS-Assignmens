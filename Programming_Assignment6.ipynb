{
 "cells": [
  {
   "cell_type": "markdown",
   "id": "3122517b",
   "metadata": {},
   "source": [
    "Question1\n",
    "Create a function that takes a string and returns a string in which each character is repeated once."
   ]
  },
  {
   "cell_type": "code",
   "execution_count": null,
   "id": "5e83c9ec",
   "metadata": {},
   "outputs": [],
   "source": [
    "def double_string(s):\n",
    "    \"\"\"function that takes a string and returns a string in which each character is repeated once.\"\"\"\n",
    "    n = len(s)\n",
    "    s1 = ''\n",
    "    for i in range(0,n):\n",
    "        s1 = s1 + s[i] + s[i]\n",
    "    print(s1)\n",
    "    \n",
    "s = input()\n",
    "double_string(s)"
   ]
  },
  {
   "cell_type": "markdown",
   "id": "e661ad0e",
   "metadata": {},
   "source": [
    "Question2\n",
    "Create a function that reverses a boolean value and returns the string &quot;boolean expected&quot;\n",
    "if another variable type is given."
   ]
  },
  {
   "cell_type": "code",
   "execution_count": 13,
   "id": "d81fe8f2",
   "metadata": {},
   "outputs": [
    {
     "data": {
      "text/plain": [
       "'Boolean Expected'"
      ]
     },
     "execution_count": 13,
     "metadata": {},
     "output_type": "execute_result"
    }
   ],
   "source": [
    "def reverse(value):\n",
    "    \"\"\"function that reverses a boolean value and returns the string \"boolean expected\" if another variable type is given.\"\"\"\n",
    "    if type(value) == bool:\n",
    "        if value==True:\n",
    "            return False\n",
    "        else:\n",
    "            return True\n",
    "    else:\n",
    "        return 'Boolean Expected'\n",
    "    \n",
    "reverse(None)"
   ]
  },
  {
   "cell_type": "markdown",
   "id": "612c63b6",
   "metadata": {},
   "source": [
    "Question3\n",
    "Create a function that returns the thickness (in meters) of a piece of paper after folding it n\n",
    "number of times. The paper starts off with a thickness of 0.5mm."
   ]
  },
  {
   "cell_type": "code",
   "execution_count": 27,
   "id": "35110a60",
   "metadata": {},
   "outputs": [
    {
     "name": "stdout",
     "output_type": "stream",
     "text": [
      "Enter the number of times paper folded : 21\n"
     ]
    },
    {
     "data": {
      "text/plain": [
       "1048.576"
      ]
     },
     "execution_count": 27,
     "metadata": {},
     "output_type": "execute_result"
    }
   ],
   "source": [
    "def num_layers(n):\n",
    "    thickness = 0.5 * 2**n\n",
    "    result = thickness/1000\n",
    "    return result\n",
    "\n",
    "n = int(input(\"Enter the number of times paper folded : \"))\n",
    "num_layers(n)"
   ]
  },
  {
   "cell_type": "markdown",
   "id": "21a3ba2d",
   "metadata": {},
   "source": [
    "Question4\n",
    "\n",
    "Create a function that takes a single string as argument and returns an ordered list containing\n",
    "the indices of all capital letters in the string."
   ]
  },
  {
   "cell_type": "code",
   "execution_count": 23,
   "id": "26ad1ef2",
   "metadata": {},
   "outputs": [
    {
     "name": "stdout",
     "output_type": "stream",
     "text": [
      "\"Vishwa\"\n"
     ]
    },
    {
     "data": {
      "text/plain": [
       "[1]"
      ]
     },
     "execution_count": 23,
     "metadata": {},
     "output_type": "execute_result"
    }
   ],
   "source": [
    "def index_of_caps(s):\n",
    "    \"\"\" a function that takes a single string as argument and returns an ordered list containing the indices of all capital letters in the string.\"\"\"\n",
    "    n = len(s)\n",
    "    l = []\n",
    "    for i in range(0,len(s)):\n",
    "        if s[i].isupper() == True:\n",
    "            l.append(i)\n",
    "    return l\n",
    "\n",
    "s = input()\n",
    "index_of_caps(s)"
   ]
  },
  {
   "cell_type": "markdown",
   "id": "9fb010e3",
   "metadata": {},
   "source": [
    "Question5\n",
    "Using list comprehensions, create a function that finds all even numbers from 1 to the given\n",
    "number."
   ]
  },
  {
   "cell_type": "code",
   "execution_count": 24,
   "id": "ac7d0ad5",
   "metadata": {},
   "outputs": [
    {
     "name": "stdout",
     "output_type": "stream",
     "text": [
      "Enter the number : 8\n"
     ]
    },
    {
     "data": {
      "text/plain": [
       "[2, 4, 6, 8]"
      ]
     },
     "execution_count": 24,
     "metadata": {},
     "output_type": "execute_result"
    }
   ],
   "source": [
    "def find_even_nums(n):\n",
    "    \"\"\"a function that finds all even numbers from 1 to the given number.\"\"\"\n",
    "    l = []\n",
    "    for i in range(1,n+1):\n",
    "        if i%2==0:\n",
    "            l.append(i)\n",
    "    return l\n",
    "\n",
    "n = int(input(\"Enter the number : \"))\n",
    "find_even_nums(n)"
   ]
  }
 ],
 "metadata": {
  "kernelspec": {
   "display_name": "Python 3 (ipykernel)",
   "language": "python",
   "name": "python3"
  },
  "language_info": {
   "codemirror_mode": {
    "name": "ipython",
    "version": 3
   },
   "file_extension": ".py",
   "mimetype": "text/x-python",
   "name": "python",
   "nbconvert_exporter": "python",
   "pygments_lexer": "ipython3",
   "version": "3.9.12"
  }
 },
 "nbformat": 4,
 "nbformat_minor": 5
}
