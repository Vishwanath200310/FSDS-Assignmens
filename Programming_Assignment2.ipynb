{
 "cells": [
  {
   "cell_type": "markdown",
   "id": "a14e06f3",
   "metadata": {},
   "source": [
    "#1. Write a Python program to convert kilometers to miles?"
   ]
  },
  {
   "cell_type": "code",
   "execution_count": 3,
   "id": "1d990f4e",
   "metadata": {},
   "outputs": [
    {
     "name": "stdout",
     "output_type": "stream",
     "text": [
      "Enter the kilometers7.90\n",
      "Miles-> 4.9088309\n"
     ]
    }
   ],
   "source": [
    "kilometers = float(input(\"Enter the kilometers\"))\n",
    "Miles = kilometers * 0.621371\n",
    "print(\"Miles->\",Miles)"
   ]
  },
  {
   "cell_type": "markdown",
   "id": "c193a502",
   "metadata": {},
   "source": [
    "#2. Write a Python program to convert Celsius to Fahrenheit?"
   ]
  },
  {
   "cell_type": "code",
   "execution_count": 5,
   "id": "cfa5c168",
   "metadata": {},
   "outputs": [
    {
     "name": "stdout",
     "output_type": "stream",
     "text": [
      "Enter the Celsius0\n",
      "Fahrenheit-> 32.0\n"
     ]
    }
   ],
   "source": [
    "celsius = float(input(\"Enter the Celsius\"))\n",
    "Fahrenheit = (celsius * 9/5) + 32\n",
    "print(\"Fahrenheit->\",Fahrenheit)"
   ]
  },
  {
   "cell_type": "markdown",
   "id": "9459f461",
   "metadata": {},
   "source": [
    "#3. Write a Python program to display calendar?"
   ]
  },
  {
   "cell_type": "code",
   "execution_count": 7,
   "id": "b6b5bbbf",
   "metadata": {},
   "outputs": [
    {
     "name": "stdout",
     "output_type": "stream",
     "text": [
      "Enter the year : 2023\n",
      "Enter the month : 04\n",
      "     April 2023\n",
      "Mo Tu We Th Fr Sa Su\n",
      "                1  2\n",
      " 3  4  5  6  7  8  9\n",
      "10 11 12 13 14 15 16\n",
      "17 18 19 20 21 22 23\n",
      "24 25 26 27 28 29 30\n",
      "\n"
     ]
    }
   ],
   "source": [
    "import calendar\n",
    "yy = int(input(\"Enter the year : \"))\n",
    "mm = int(input(\"Enter the month : \"))\n",
    "\n",
    "print(calendar.month(yy,mm))"
   ]
  },
  {
   "cell_type": "markdown",
   "id": "6b90a0a5",
   "metadata": {},
   "source": [
    "#4. Write a Python program to solve quadratic equation?"
   ]
  },
  {
   "cell_type": "code",
   "execution_count": 9,
   "id": "88e9927a",
   "metadata": {},
   "outputs": [
    {
     "name": "stdout",
     "output_type": "stream",
     "text": [
      "Enter a : 1\n",
      "Enter b : 5\n",
      "Enter c : 6\n",
      "roots are  (-2+0j) (-3+0j)\n"
     ]
    }
   ],
   "source": [
    "#Quadratic equation -> ax**2+bx+c\n",
    "a = int(input(\"Enter a : \"))\n",
    "b = int(input(\"Enter b : \"))\n",
    "c = int(input(\"Enter c : \"))\n",
    "#roots = (-b(+or-)(b**2-4*a*c)**1/2)/2*a\n",
    "d = b**2-4*a*c\n",
    "import cmath\n",
    "sol1 = (-b + cmath.sqrt(d))/2*a\n",
    "sol2 = (-b - cmath.sqrt(d))/2*a\n",
    "print(\"roots are \",sol1,sol2)"
   ]
  },
  {
   "cell_type": "markdown",
   "id": "6143d774",
   "metadata": {},
   "source": [
    "#5. Write a Python program to swap two variables without temp variable?"
   ]
  },
  {
   "cell_type": "code",
   "execution_count": 11,
   "id": "3e334c5f",
   "metadata": {},
   "outputs": [
    {
     "name": "stdout",
     "output_type": "stream",
     "text": [
      "Before swapping a-> 5 ; b-> 6\n",
      "After swapping a-> 6 ; b-> 5\n"
     ]
    }
   ],
   "source": [
    "a = 5\n",
    "b = 6\n",
    "print(\"Before swapping a->\",a,\"; b->\",b)\n",
    "a,b = b,a\n",
    "print(\"After swapping a->\",a,\"; b->\",b)"
   ]
  }
 ],
 "metadata": {
  "kernelspec": {
   "display_name": "Python 3 (ipykernel)",
   "language": "python",
   "name": "python3"
  },
  "language_info": {
   "codemirror_mode": {
    "name": "ipython",
    "version": 3
   },
   "file_extension": ".py",
   "mimetype": "text/x-python",
   "name": "python",
   "nbconvert_exporter": "python",
   "pygments_lexer": "ipython3",
   "version": "3.9.12"
  }
 },
 "nbformat": 4,
 "nbformat_minor": 5
}
