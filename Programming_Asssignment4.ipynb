{
 "cells": [
  {
   "cell_type": "markdown",
   "id": "4e1f088b",
   "metadata": {},
   "source": [
    "#1. Write a Python Program to Find the Factorial of a Number?"
   ]
  },
  {
   "cell_type": "code",
   "execution_count": 4,
   "id": "6597d013",
   "metadata": {},
   "outputs": [
    {
     "name": "stdout",
     "output_type": "stream",
     "text": [
      "Enter the number : 5\n",
      "The factorial of 5 is 120\n"
     ]
    }
   ],
   "source": [
    "n = int(input(\"Enter the number : \"))\n",
    "fact = 1\n",
    "for i in range(1,n+1):\n",
    "    fact = fact*i\n",
    "print(\"The factorial of\",n,\"is\",fact)"
   ]
  },
  {
   "cell_type": "markdown",
   "id": "1a38d72e",
   "metadata": {},
   "source": [
    "#2. Write a Python Program to Display the multiplication Table?"
   ]
  },
  {
   "cell_type": "code",
   "execution_count": 5,
   "id": "e4372f8d",
   "metadata": {},
   "outputs": [
    {
     "name": "stdout",
     "output_type": "stream",
     "text": [
      "Enter the table you want to know : 5\n",
      "5 x 1 = 5\n",
      "5 x 2 = 10\n",
      "5 x 3 = 15\n",
      "5 x 4 = 20\n",
      "5 x 5 = 25\n",
      "5 x 6 = 30\n",
      "5 x 7 = 35\n",
      "5 x 8 = 40\n",
      "5 x 9 = 45\n",
      "5 x 10 = 50\n"
     ]
    }
   ],
   "source": [
    "n = int(input(\"Enter the table you want to know : \"))\n",
    "for i in range(1,11):\n",
    "    print(n,\"x\",i,\"=\",n*i)"
   ]
  },
  {
   "cell_type": "markdown",
   "id": "6cabbf35",
   "metadata": {},
   "source": [
    "#3. Write a Python Program to Print the Fibonacci sequence?"
   ]
  },
  {
   "cell_type": "code",
   "execution_count": 8,
   "id": "4cd75509",
   "metadata": {},
   "outputs": [
    {
     "name": "stdout",
     "output_type": "stream",
     "text": [
      "Enter the number : 6\n",
      "0\n",
      "1\n",
      "1\n",
      "2\n",
      "3\n",
      "5\n",
      "8\n",
      "13\n"
     ]
    }
   ],
   "source": [
    "n = int(input(\"Enter the number : \"))\n",
    "a = 0\n",
    "b = 1\n",
    "print(a)\n",
    "print(b)\n",
    "for i in range(1,n+1):\n",
    "    c = a+b\n",
    "    print(c)\n",
    "    a,b = b,c"
   ]
  },
  {
   "cell_type": "markdown",
   "id": "9a8cb96a",
   "metadata": {},
   "source": [
    "#4. Write a Python Program to Check Armstrong Number?"
   ]
  },
  {
   "cell_type": "code",
   "execution_count": 16,
   "id": "0eb892f7",
   "metadata": {},
   "outputs": [
    {
     "name": "stdout",
     "output_type": "stream",
     "text": [
      "Enter the number : 371\n",
      "It is Armstrong Number\n"
     ]
    }
   ],
   "source": [
    "n = int(input(\"Enter the number : \"))\n",
    "temp = n\n",
    "l = []\n",
    "while temp>0:\n",
    "    digit = temp%10\n",
    "    l.append(digit)\n",
    "    temp = temp//10\n",
    "value = 0\n",
    "for i in l:\n",
    "    value = i**3 + value\n",
    "if value==n:\n",
    "    print(\"It is Armstrong Number\")\n",
    "else:\n",
    "    print(\"It is not Armstrong number\")"
   ]
  },
  {
   "cell_type": "markdown",
   "id": "272edce0",
   "metadata": {},
   "source": [
    "#5. Write a Python Program to Find Armstrong Number in an Interval?"
   ]
  },
  {
   "cell_type": "code",
   "execution_count": 17,
   "id": "2b1d76d3",
   "metadata": {},
   "outputs": [
    {
     "name": "stdout",
     "output_type": "stream",
     "text": [
      "Enter the lowerlimit range : 100\n",
      "Enter the upperlimit range : 1000\n",
      "153\n",
      "370\n",
      "371\n",
      "407\n"
     ]
    }
   ],
   "source": [
    "lowerlimit = int(input(\"Enter the lowerlimit range : \"))\n",
    "upperlimit = int(input(\"Enter the upperlimit range : \"))\n",
    "for i in range(lowerlimit,upperlimit+1):\n",
    "    n = i\n",
    "    temp = n\n",
    "    l = []\n",
    "    while temp>0:\n",
    "        digit = temp%10\n",
    "        l.append(digit)\n",
    "        temp = temp//10\n",
    "    value = 0\n",
    "    for j in l:\n",
    "        value = j**3 + value\n",
    "    if value==i:\n",
    "        print(i)\n",
    "    else:\n",
    "        pass"
   ]
  },
  {
   "cell_type": "markdown",
   "id": "700d92c3",
   "metadata": {},
   "source": [
    "#6. Write a Python Program to Find the Sum of Natural Numbers?"
   ]
  },
  {
   "cell_type": "code",
   "execution_count": 18,
   "id": "7e84e14e",
   "metadata": {},
   "outputs": [
    {
     "name": "stdout",
     "output_type": "stream",
     "text": [
      "Enter the number : 10\n",
      "55\n"
     ]
    }
   ],
   "source": [
    "n = int(input(\"Enter the number : \"))\n",
    "Sum = 0\n",
    "for i in range(0,n+1):\n",
    "    Sum = Sum + i\n",
    "print(Sum)"
   ]
  }
 ],
 "metadata": {
  "kernelspec": {
   "display_name": "Python 3 (ipykernel)",
   "language": "python",
   "name": "python3"
  },
  "language_info": {
   "codemirror_mode": {
    "name": "ipython",
    "version": 3
   },
   "file_extension": ".py",
   "mimetype": "text/x-python",
   "name": "python",
   "nbconvert_exporter": "python",
   "pygments_lexer": "ipython3",
   "version": "3.9.12"
  }
 },
 "nbformat": 4,
 "nbformat_minor": 5
}
