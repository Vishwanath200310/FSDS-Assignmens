{
 "cells": [
  {
   "cell_type": "markdown",
   "id": "aa2fa8b5",
   "metadata": {},
   "source": [
    "#1. Write a Python Program to Find LCM?"
   ]
  },
  {
   "cell_type": "code",
   "execution_count": 23,
   "id": "14ff9216",
   "metadata": {},
   "outputs": [
    {
     "name": "stdout",
     "output_type": "stream",
     "text": [
      "Enter number1 : 54\n",
      "Enter number2 : 24\n",
      "LCM of a and b is  216\n"
     ]
    }
   ],
   "source": [
    "a = int(input(\"Enter number1 : \"))\n",
    "b = int(input(\"Enter number2 : \"))\n",
    "if a>b:\n",
    "    greater = a\n",
    "else:\n",
    "    greater = b\n",
    "while (True):\n",
    "    if (greater%a == 0 and greater%b==0):\n",
    "        lcm = greater\n",
    "        break\n",
    "    greater+=1\n",
    "print(\"LCM of a and b is \",lcm)"
   ]
  },
  {
   "cell_type": "markdown",
   "id": "ec6e38fe",
   "metadata": {},
   "source": [
    "#2. Write a Python Program to Find HCF?"
   ]
  },
  {
   "cell_type": "code",
   "execution_count": 19,
   "id": "e779778b",
   "metadata": {},
   "outputs": [
    {
     "name": "stdout",
     "output_type": "stream",
     "text": [
      "Enter number1 : 12\n",
      "Enter number2 : 18\n",
      "HCF of a and b is  6\n"
     ]
    }
   ],
   "source": [
    "a = int(input(\"Enter number1 : \"))\n",
    "b = int(input(\"Enter number2 : \"))\n",
    "if a>b:\n",
    "    small = b\n",
    "else:\n",
    "    small = a\n",
    "for i in range(1,small+1):\n",
    "    if (a%i==0 and b%i==0):\n",
    "        hcf = i\n",
    "print(\"HCF of a and b is \",hcf)"
   ]
  },
  {
   "cell_type": "markdown",
   "id": "81daf398",
   "metadata": {},
   "source": [
    "#3. Write a Python Program to Convert Decimal to Binary, Octal and Hexadecimal?"
   ]
  },
  {
   "cell_type": "code",
   "execution_count": 14,
   "id": "ae63a9a1",
   "metadata": {},
   "outputs": [
    {
     "name": "stdout",
     "output_type": "stream",
     "text": [
      "Enter the number : 90000\n",
      "Decimal -> binary :  0b10101111110010000\n",
      "Decimal -> octal :  0o257620\n",
      "Decimal -> Hexadecimal :  0x15f90\n"
     ]
    }
   ],
   "source": [
    "num = int(input(\"Enter the number : \"))\n",
    "print(\"Decimal -> binary : \",bin(num))\n",
    "print(\"Decimal -> octal : \",oct(num))\n",
    "print(\"Decimal -> Hexadecimal : \",hex(num))"
   ]
  },
  {
   "cell_type": "markdown",
   "id": "ed072760",
   "metadata": {},
   "source": [
    "#4. Write a Python Program To Find ASCII value of a character?"
   ]
  },
  {
   "cell_type": "code",
   "execution_count": 5,
   "id": "e08f50a1",
   "metadata": {},
   "outputs": [
    {
     "name": "stdout",
     "output_type": "stream",
     "text": [
      "Enter the character : h\n",
      "ASCII value of  h is 104\n"
     ]
    }
   ],
   "source": [
    "char = input(\"Enter the character : \")\n",
    "print(\"ASCII value of \",char,\"is\",ord(char))"
   ]
  },
  {
   "cell_type": "markdown",
   "id": "df1c21bd",
   "metadata": {},
   "source": [
    "#5. Write a Python Program to Make a Simple Calculator with 4 basic mathematical operations?"
   ]
  },
  {
   "cell_type": "code",
   "execution_count": 15,
   "id": "f7e5de92",
   "metadata": {},
   "outputs": [
    {
     "name": "stdout",
     "output_type": "stream",
     "text": [
      "Enter a : 56.9\n",
      "Enter the operation symbol : *\n",
      "Enter b : 90\n",
      "5121.0\n"
     ]
    }
   ],
   "source": [
    "a = float(input(\"Enter a : \"))\n",
    "operation = input(\"Enter the operation symbol : \")\n",
    "b = float(input(\"Enter b : \"))\n",
    "\n",
    "if operation=='+':\n",
    "    print(a+b)\n",
    "elif operation=='-':\n",
    "    print(a-b)\n",
    "elif operation=='*':\n",
    "    print(a*b)\n",
    "elif operation=='/':\n",
    "    print(a/b)"
   ]
  }
 ],
 "metadata": {
  "kernelspec": {
   "display_name": "Python 3 (ipykernel)",
   "language": "python",
   "name": "python3"
  },
  "language_info": {
   "codemirror_mode": {
    "name": "ipython",
    "version": 3
   },
   "file_extension": ".py",
   "mimetype": "text/x-python",
   "name": "python",
   "nbconvert_exporter": "python",
   "pygments_lexer": "ipython3",
   "version": "3.9.12"
  }
 },
 "nbformat": 4,
 "nbformat_minor": 5
}
